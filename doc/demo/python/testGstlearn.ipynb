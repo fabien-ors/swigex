{
 "cells": [
  {
   "cell_type": "code",
   "execution_count": null,
   "id": "95a59b3c",
   "metadata": {},
   "outputs": [],
   "source": [
    "%%javascript\n",
    "IPython.OutputArea.prototype._should_scroll = function(lines) {\n",
    "return false;\n",
    "}"
   ]
  },
  {
   "cell_type": "code",
   "execution_count": null,
   "id": "4385a622",
   "metadata": {},
   "outputs": [],
   "source": [
    "import numpy as np     \n",
    "import plotly.graph_objects as go\n",
    "import gstlearn as gl\n",
    "import gstlearn.plot3D as gop"
   ]
  },
  {
   "cell_type": "code",
   "execution_count": null,
   "id": "f97ec382",
   "metadata": {},
   "outputs": [],
   "source": [
    "gl.defineDefaultSpace(gl.ESpaceType.SN)\n",
    "\n",
    "mesh = gl.MeshSphericalExt()\n",
    "mesh.resetFromDb(None,None,triswitch = \"-r5\",verbose=False)\n",
    "\n",
    "model = gl.Model.createFromParam(gl.ECov.BESSEL_K,range=0.2,param=1)\n",
    "\n",
    "simu = gl.SimuSphericalParam(0,1000)\n",
    "simu.display()\n",
    "result = gl.simsph_mesh(mesh,model,simu,seed=23234,verbose=True)"
   ]
  },
  {
   "cell_type": "code",
   "execution_count": null,
   "id": "c669cc60",
   "metadata": {},
   "outputs": [],
   "source": [
    "simu = gop.SurfaceOnMesh(mesh, intensity=result, opacity=1, showlegend=True)"
   ]
  },
  {
   "cell_type": "code",
   "execution_count": null,
   "id": "b6dbf553",
   "metadata": {},
   "outputs": [],
   "source": [
    "fig = go.Figure(data = [simu])\n",
    "f = fig.show()"
   ]
  }
 ],
 "metadata": {
  "kernelspec": {
   "display_name": "Python 3 (ipykernel)",
   "language": "python",
   "name": "python3"
  },
  "language_info": {
   "codemirror_mode": {
    "name": "ipython",
    "version": 3
   },
   "file_extension": ".py",
   "mimetype": "text/x-python",
   "name": "python",
   "nbconvert_exporter": "python",
   "pygments_lexer": "ipython3",
   "version": "3.10.12"
  },
  "toc": {
   "base_numbering": 1,
   "nav_menu": {},
   "number_sections": true,
   "sideBar": true,
   "skip_h1_title": false,
   "title_cell": "Table of Contents",
   "title_sidebar": "Contents",
   "toc_cell": false,
   "toc_position": {},
   "toc_section_display": true,
   "toc_window_display": false
  }
 },
 "nbformat": 4,
 "nbformat_minor": 5
}
