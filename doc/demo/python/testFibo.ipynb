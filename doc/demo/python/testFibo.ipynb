{
 "cells": [
  {
   "cell_type": "code",
   "execution_count": 8,
   "id": "4385a622",
   "metadata": {},
   "outputs": [],
   "source": [
    "import swigex"
   ]
  },
  {
   "cell_type": "code",
   "execution_count": 9,
   "id": "f97ec382",
   "metadata": {},
   "outputs": [
    {
     "name": "stdout",
     "output_type": "stream",
     "text": [
      "0 1 1 2 3 5 8 13 21 34 \n"
     ]
    }
   ],
   "source": [
    "f1 = swigex.Fibo(50)\n",
    "f1.display(False)"
   ]
  },
  {
   "cell_type": "code",
   "execution_count": 10,
   "id": "c669cc60",
   "metadata": {},
   "outputs": [
    {
     "name": "stdout",
     "output_type": "stream",
     "text": [
      "Test 100: 0 1 1 2 3 5 8 13 21 34 55 89 \n"
     ]
    }
   ],
   "source": [
    "f2 = swigex.Fibo(100, \"Test 100\")\n",
    "f2.display()"
   ]
  },
  {
   "cell_type": "code",
   "execution_count": 11,
   "id": "b6dbf553",
   "metadata": {},
   "outputs": [
    {
     "name": "stdout",
     "output_type": "stream",
     "text": [
      "[ 0  1  1  2  3  5  8 13 21 34]\n"
     ]
    }
   ],
   "source": [
    "vec = swigex.fib(40)\n",
    "print(vec)"
   ]
  }
 ],
 "metadata": {
  "kernelspec": {
   "display_name": "Python 3 (ipykernel)",
   "language": "python",
   "name": "python3"
  },
  "language_info": {
   "codemirror_mode": {
    "name": "ipython",
    "version": 3
   },
   "file_extension": ".py",
   "mimetype": "text/x-python",
   "name": "python",
   "nbconvert_exporter": "python",
   "pygments_lexer": "ipython3",
   "version": "3.10.6"
  }
 },
 "nbformat": 4,
 "nbformat_minor": 5
}
