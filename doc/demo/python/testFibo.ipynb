{
 "cells": [
  {
   "cell_type": "code",
   "execution_count": null,
   "id": "4385a622",
   "metadata": {},
   "outputs": [],
   "source": [
    "import swigex\n",
    "import matplotlib.pyplot as plt\n",
    "import numpy as np"
   ]
  },
  {
   "cell_type": "code",
   "execution_count": null,
   "id": "f97ec382",
   "metadata": {},
   "outputs": [],
   "source": [
    "f1 = swigex.Fibo(50)\n",
    "f1.display(False)"
   ]
  },
  {
   "cell_type": "code",
   "execution_count": null,
   "id": "c669cc60",
   "metadata": {},
   "outputs": [],
   "source": [
    "f2 = swigex.Fibo(100, \"Test 100\")\n",
    "f2.display()"
   ]
  },
  {
   "cell_type": "code",
   "execution_count": null,
   "id": "b6dbf553",
   "metadata": {},
   "outputs": [],
   "source": [
    "vec = swigex.fib(40)\n",
    "print(vec)"
   ]
  },
  {
   "cell_type": "code",
   "execution_count": null,
   "id": "7c40e177",
   "metadata": {},
   "outputs": [],
   "source": [
    "vec = swigex.fib(40)\n",
    "plt.plot(np.arange(len(vec)), vec)"
   ]
  }
 ],
 "metadata": {
  "kernelspec": {
   "display_name": "Python 3 (ipykernel)",
   "language": "python",
   "name": "python3"
  },
  "language_info": {
   "codemirror_mode": {
    "name": "ipython",
    "version": 3
   },
   "file_extension": ".py",
   "mimetype": "text/x-python",
   "name": "python",
   "nbconvert_exporter": "python",
   "pygments_lexer": "ipython3",
   "version": "3.10.12"
  }
 },
 "nbformat": 4,
 "nbformat_minor": 5
}
